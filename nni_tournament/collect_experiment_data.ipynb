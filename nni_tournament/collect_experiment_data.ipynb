{
 "cells": [
  {
   "cell_type": "markdown",
   "metadata": {
    "collapsed": true,
    "pycharm": {
     "name": "#%% md\n"
    }
   },
   "source": [
    "### Notebook to plot and organize CuteChess metrics form a nni experiment"
   ]
  },
  {
   "cell_type": "code",
   "execution_count": 384,
   "outputs": [],
   "source": [
    "import numpy as np\n",
    "import matplotlib\n",
    "import matplotlib.pyplot as plt\n",
    "from matplotlib import rc\n",
    "import glob\n",
    "import os\n",
    "import configparser\n",
    "import re\n",
    "from pathlib import Path\n",
    "import ast\n",
    "import json"
   ],
   "metadata": {
    "collapsed": false,
    "pycharm": {
     "name": "#%%\n"
    }
   }
  },
  {
   "cell_type": "code",
   "execution_count": 385,
   "outputs": [],
   "source": [
    "## path to experiment directory\n",
    "experiment_path = r\"C:\\Users\\Daniel\\nni-experiments\\0Hjkne4l\"\n",
    "trials_path = experiment_path + r\"\\trials\"\n",
    "\n",
    "## engine names  (elo diff from contender perspective)\n",
    "baseline_name = \"CrazyAra_small_mobile_v2\"\n",
    "contender_name = \"CrazyAra_RISEv2_27_blocks\""
   ],
   "metadata": {
    "collapsed": false,
    "pycharm": {
     "name": "#%%\n"
    }
   }
  },
  {
   "cell_type": "code",
   "execution_count": 386,
   "outputs": [],
   "source": [
    "##dict containing all trials with key of the fixed_movetime\n",
    "experiment_dict = {}\n",
    "\n",
    "movetimes = list()\n",
    "## iterate over all trials\n",
    "parser = configparser.ConfigParser()\n",
    "for trial in os.scandir(trials_path):\n",
    "    parameter_file = open(Path(trial.path + r\"\\parameter.cfg\"))\n",
    "    metric_file = open(Path(trial.path + r\"\\.nni\\metrics\"))\n",
    "    parameter = ast.literal_eval(parameter_file.read())['parameters']\n",
    "    test = metric_file.read()\n",
    "    metric = re.findall(r\"[{][\\s\\S]*[}]\", test)\n",
    "\n",
    "    if metric:\n",
    "        metric = metric[0]\n",
    "        metric = ast.literal_eval(metric)\n",
    "\n",
    "    ## configure dict for trial, containing metrics (elo+var) and settings\n",
    "    trial_dict = {}\n",
    "    trial_dict.update(parameter)\n",
    "    if metric:\n",
    "        trial_dict['elo'] = float(metric['value'])\n",
    "        trial_dict['variance'] = float(metric['variance'])\n",
    "    else:\n",
    "        trial_dict['elo'] = 'inf'\n",
    "        trial_dict['variance'] = 'nan'\n",
    "\n",
    "    movetimes.append(parameter['Fixed_Movetime'])\n",
    "\n",
    "    if parameter['Fixed_Movetime'] not in experiment_dict:\n",
    "        experiment_dict[parameter['Fixed_Movetime']] = list()\n",
    "    experiment_dict[parameter['Fixed_Movetime']].append(trial_dict)\n",
    "## add movetimes to the dict\n",
    "experiment_dict['Movetime'] = movetimes"
   ],
   "metadata": {
    "collapsed": false,
    "pycharm": {
     "name": "#%% Create a dictonary containing the parameter + metrics for all trials in the experiment\n"
    }
   }
  },
  {
   "cell_type": "code",
   "execution_count": 387,
   "outputs": [
    {
     "name": "stdout",
     "output_type": "stream",
     "text": [
      "['Solarize_Light2', '_classic_test_patch', 'bmh', 'classic', 'dark_background', 'fast', 'fivethirtyeight', 'ggplot', 'grayscale', 'seaborn', 'seaborn-bright', 'seaborn-colorblind', 'seaborn-dark', 'seaborn-dark-palette', 'seaborn-darkgrid', 'seaborn-deep', 'seaborn-muted', 'seaborn-notebook', 'seaborn-paper', 'seaborn-pastel', 'seaborn-poster', 'seaborn-talk', 'seaborn-ticks', 'seaborn-white', 'seaborn-whitegrid', 'tableau-colorblind10']\n",
      "[4.4799999999999995, 3.36]\n"
     ]
    }
   ],
   "source": [
    "print(plt.style.available)\n",
    "# plt.style.use('seaborn-paper')\n",
    "plt.style.use('grayscale')\n",
    "plt.style.use('seaborn-whitegrid')\n",
    "# plt.style.use('seaborn-white')\n",
    "#plt.style.use('fivethirtyeight')\n",
    "rc('font', **{'family': 'serif'})  # ,'sans-serif':['Helvetica']})\n",
    "## for Palatino and other serif fonts use:\n",
    "# rc('font',**{'family':'serif','serif':['Palatino']})\n",
    "# rc('text', usetex=True)\n",
    "# print(plt.rcParams.keys())\n",
    "plt.rcParams['legend.frameon'] = 'True'\n",
    "plt.rcParams['legend.framealpha'] = '1.0'\n",
    "print(plt.rcParams['figure.figsize'])\n",
    "plt.rcParams['figure.figsize'] = [6.4*0.7, 4.8*0.7] #(15, 5)\n",
    "plt.rcParams['axes.grid.axis'] = 'y' #False\n",
    "# https://matplotlib.org/3.1.0/gallery/lines_bars_and_markers/linestyles.html\n",
    "linestyle_str = [\n",
    "  ('solid', 'solid'),  # Same as (0, ()) or '-'\n",
    "  ('dotted', 'dotted'),  # Same as (0, (1, 1)) or '.'\n",
    "  ('dashed', 'dashed'),  # Same as '--'\n",
    "  ('dashdot', 'dashdot')]  # Same as '-.'\n",
    "linestyle_tuple = [\n",
    "  ('loosely dotted', (0, (1, 10))),\n",
    "  ('dotted', (0, (1, 1))),\n",
    "  ('densely dotted', (0, (1, 1))),\n",
    "\n",
    "  ('loosely dashed', (0, (5, 10))),\n",
    "  ('dashed', (0, (5, 5))),\n",
    "  ('densely dashed', (0, (5, 1))),\n",
    "\n",
    "  ('loosely dashdotted', (0, (3, 10, 1, 10))),\n",
    "  ('dashdotted', (0, (3, 5, 1, 5))),\n",
    "  ('densely dashdotted', (0, (3, 1, 1, 1))),\n",
    "\n",
    "  ('dashdotdotted', (0, (3, 5, 1, 5, 1, 5))),\n",
    "  ('loosely dashdotdotted', (0, (3, 10, 1, 10, 1, 10))),\n",
    "  ('densely dashdotdotted', (0, (3, 1, 1, 1, 1, 1)))]\n"
   ],
   "metadata": {
    "collapsed": false,
    "pycharm": {
     "name": "#%%  Plot settings\n"
    }
   }
  },
  {
   "cell_type": "code",
   "execution_count": 388,
   "outputs": [],
   "source": [
    "x = experiment_dict['Movetime']\n",
    "x.sort()\n",
    "elo =  list()\n",
    "variance = list()\n",
    "\n",
    "for timestamp in x:\n",
    "    elo_tmp = []\n",
    "    var_tmp = []\n",
    "    settings = experiment_dict[timestamp]\n",
    "    for plot_setting in settings:\n",
    "        elo_tmp.append(float(plot_setting['elo']))\n",
    "        var_tmp.append(float(plot_setting['variance']))\n",
    "    elo.append(elo_tmp)\n",
    "    variance.append(var_tmp)\n",
    "\n",
    "elo = np.column_stack(elo).tolist()\n",
    "variance = np.column_stack(variance).tolist()\n",
    "\n",
    "## create Plot label\n",
    "plot_label =  list()\n",
    "for param in experiment_dict[x[0]]:\n",
    "    str_tmp = \"\"\n",
    "    for key in param.keys():\n",
    "        if key != 'Fixed_Movetime' and key != 'elo' and key != 'variance': ## already stated\n",
    "            next_arg = \"\"\n",
    "            if isinstance(param[key],str):\n",
    "                if param[key] == 'true':\n",
    "                    next_arg = key\n",
    "            else: ## param is float/(int)\n",
    "                next_arg =  key + \" = \" + str(param[key])\n",
    "            if next_arg:\n",
    "                if not str_tmp:\n",
    "                    str_tmp = next_arg\n",
    "                else:\n",
    "                    str_tmp = str_tmp + \"; \" + next_arg\n",
    "    plot_label.append(str_tmp)\n",
    "\n",
    "\n",
    "## add elo and var to experiment dict for better access later\n",
    "plot_dict = {}\n",
    "plot_dict['x'] = x\n",
    "plot_dict['elo'] = elo\n",
    "plot_dict['var'] = variance\n",
    "plot_dict['label'] = plot_label\n",
    "plot_dict['contender_name'] = contender_name\n",
    "plot_dict['baseline_name'] = baseline_name\n",
    "\n",
    "experiment_dict['plot_data'] = plot_dict"
   ],
   "metadata": {
    "collapsed": false,
    "pycharm": {
     "name": "#%% Prepare Data\n"
    }
   }
  },
  {
   "cell_type": "code",
   "execution_count": 389,
   "outputs": [
    {
     "data": {
      "text/plain": "<Figure size 322.56x241.92 with 1 Axes>",
      "image/png": "[encoded data removed]"
     },
     "metadata": {},
     "output_type": "display_data"
    }
   ],
   "source": [
    "figures = list()\n",
    "for elo_plt, var_plt, label in zip(np.array(elo), np.array(variance), np.array(plot_label)):\n",
    "    fig = plt.figure()\n",
    "    fig.suptitle(\"{} vs. {}\".format(contender_name, baseline_name))\n",
    "    plt.grid(True)\n",
    "    fig.text(0, -0.05, \"Additional Settings:\")\n",
    "    fig.text(0,-0.10,label)\n",
    "    plt.xticks(x)\n",
    "    plt.xlabel(\"Movetime in [ms]\")\n",
    "    plt.ylabel(\"Relative elo difference\")\n",
    "    plt.plot(x, elo_plt, label=\"elo difference between: \\n {} \\n {}\".format(contender_name, baseline_name))\n",
    "    plt.fill_between(x, elo_plt - var_plt, elo_plt + var_plt, color='black', alpha=0.25)\n",
    "    plt.legend()\n",
    "    plt.show()\n",
    "\n",
    "    figures.append(fig)"
   ],
   "metadata": {
    "collapsed": false,
    "pycharm": {
     "name": "#%% Plot\n"
    }
   }
  },
  {
   "cell_type": "code",
   "execution_count": 390,
   "outputs": [],
   "source": [
    "plot_data_dir = experiment_path + r\"\\plot_data\"\n",
    "if not os.path.isdir(plot_data_dir):\n",
    "    os.mkdir(plot_data_dir)\n",
    "\n",
    "with open(plot_data_dir + r'\\experiment_data.json', 'w') as file:\n",
    "    json.dump(experiment_dict, file, indent=len(x))\n",
    "\n",
    "for fig, plot_num in zip(figures,  np.arange(len(figures))):\n",
    "    fig.savefig(plot_data_dir + r\"\\{}_vs_{}_{}\".format(contender_name, baseline_name, plot_num), bbox_inches=\"tight\")\n"
   ],
   "metadata": {
    "collapsed": false,
    "pycharm": {
     "name": "#%% Save processed Data + Plots in experiment Dir\n"
    }
   }
  }
 ],
 "metadata": {
  "kernelspec": {
   "display_name": "Python 3",
   "language": "python",
   "name": "python3"
  },
  "language_info": {
   "codemirror_mode": {
    "name": "ipython",
    "version": 2
   },
   "file_extension": ".py",
   "mimetype": "text/x-python",
   "name": "python",
   "nbconvert_exporter": "python",
   "pygments_lexer": "ipython2",
   "version": "2.7.6"
  }
 },
 "nbformat": 4,
 "nbformat_minor": 0
}